{
 "cells": [
  {
   "cell_type": "markdown",
   "metadata": {},
   "source": [
    "# Introduction\n",
    "\n",
    "COVID has impacted our daily life since December 2019. It has an \"appropriate\" spread rate and death rate, so it immediately spreads worldwide and damages society and the economy a lot.\n",
    "\n",
    "And there is a small community with approximately 1000 people. One day, the local government suddenly found that there were $I0 = 5$ people showing symptoms of COVID. To reduce the effect of COVID on this small community, the government has several strategies to stop the spread of COVID, but they do not know which one is the best. \n",
    "\n",
    "Therefore, in this project, we will figure out which strategy is the best for this small community, and advise the small community to use this strategy to stop the COVID, and give an approximate number of people being affected in this epidemic."
   ]
  },
  {
   "cell_type": "markdown",
   "metadata": {},
   "source": [
    "To figure out which strategy is the best, we first model the spread of COVID without any intervene, to see what will happen if we do not take any approach. Instead of using stochastic or traditional SIR model, we model the spread of COVID in a network model, for example the small-world or BA model. And by using these network model, we can better imitate the spread of COVID in the real world.\n",
    "\n",
    "After that, it is not enough to play the model, so that we will compare our model to a small community in the real world. In this project, we choose Aosta, Italy, a small city with only about 34,000 people [1], to see how our model fits the actual data.\n",
    "\n",
    "Finally, we will model several strategies and determine which one gives the best result, for example, the minimum number of infected people, and share our advice."
   ]
  },
  {
   "cell_type": "markdown",
   "metadata": {},
   "source": [
    "# Part I: Model the Spread of COVID without Intervere"
   ]
  },
  {
   "cell_type": "code",
   "execution_count": 16,
   "metadata": {},
   "outputs": [],
   "source": [
    "import numpy as np\n",
    "import random\n",
    "import networkx as nx\n",
    "import matplotlib.pyplot as plt\n",
    "from matplotlib import pylab\n",
    "from tqdm import tqdm"
   ]
  },
  {
   "cell_type": "markdown",
   "metadata": {},
   "source": [
    "\"tqdm\" package is a package that gives out a progress bar during the for loop. If you do not have the \"tqdm\" package, you can use pip to download it. Or just delete every tqdm in front of the for loop's range().\n",
    "\n",
    "For example:\n",
    "\n",
    "Before: for nn_model in tqdm(range(num_loop)):\n",
    "\n",
    "After: for nn_model in range(num_loop):"
   ]
  },
  {
   "cell_type": "markdown",
   "metadata": {},
   "source": [
    "In this part, we are trying to model the spread of COVID in a small community without any interfere, and we devide people into 5 categories: S, I, R, I1, I2, V.\n",
    "\n",
    "I1 is the number of people who get infected within 24h, without symptoms, but can spread disease.\n",
    "\n",
    "I2 is the number of people infected between 24h - 48h, without symptoms, but can spread disease.\n",
    "\n",
    "V is the number of people who get vaccinated, and we will not use it in part I.\n",
    "\n",
    "We assume that the total number of people in this community is $N = 1000$, and we begin with $I0 = 5$ people being infected.\n",
    "\n",
    "According to the research (Reference), the average number of people one person close contact with every day is $contact\\_num = 13$ [2], and the rate of being infected during the close contact is $a = 0.026$ [3].\n",
    "\n",
    "Also, those who recovered from COVID have $Re\\_S = 0.2$ probability of becoming S again [4]."
   ]
  },
  {
   "cell_type": "code",
   "execution_count": 17,
   "metadata": {},
   "outputs": [],
   "source": [
    "# Total population, N.\n",
    "N = 1000\n",
    "I0 = 5\n",
    "R0 = 0\n",
    "S0 = N - I0 - R0\n",
    "I10 = 0\n",
    "I20 = 0\n",
    "V0 = 0\n",
    "\n",
    "\n",
    "a = 0.026\n",
    "b = 0.1\n",
    "contact_num = 13\n",
    "Re_S = 0.2"
   ]
  },
  {
   "cell_type": "markdown",
   "metadata": {},
   "source": [
    "And we model the spread in $T = 200$ days, with time slot $dt = 1$ day."
   ]
  },
  {
   "cell_type": "code",
   "execution_count": 18,
   "metadata": {},
   "outputs": [],
   "source": [
    "# A grid of time points (in days)\n",
    "T = 200\n",
    "dt = 1\n",
    "Nt = int(T/dt) + 1\n",
    "t = np.linspace(0, T, Nt)"
   ]
  },
  {
   "cell_type": "markdown",
   "metadata": {},
   "source": [
    "The following three functions are helper functions."
   ]
  },
  {
   "cell_type": "code",
   "execution_count": 19,
   "metadata": {},
   "outputs": [],
   "source": [
    "# Transform the networkx format to a matrix, which will be easier to calculate.\n",
    "def networkx_to_matrix(G):\n",
    "    G_num_node = G.number_of_nodes()\n",
    "    G_to_matrix = np.zeros((G_num_node, G_num_node))\n",
    "    edges_list = list(G.edges())\n",
    "    for i in edges_list:\n",
    "        G_to_matrix[i[0], i[1]] = 1\n",
    "        G_to_matrix[i[1], i[0]] = 1\n",
    "    return G_to_matrix"
   ]
  },
  {
   "cell_type": "code",
   "execution_count": 20,
   "metadata": {},
   "outputs": [],
   "source": [
    "# Init the initial station of each node.\n",
    "def SIR_init(G, I_indices, I2_indices = []):\n",
    "    if(type(G) == np.ndarray):\n",
    "        G_num_node = G.shape[0]\n",
    "    elif(type(G) == nx.classes.graph.Graph):\n",
    "        G_num_node = G.number_of_nodes()\n",
    "    else:\n",
    "        print(\"Type of the first input can only be graph or graph matrix.\")\n",
    "        assert(0)\n",
    "    SIR_node = np.zeros(G_num_node)\n",
    "    SIR_node[I_indices] = 3\n",
    "    SIR_node[I2_indices] = 2\n",
    "    return SIR_node"
   ]
  },
  {
   "cell_type": "code",
   "execution_count": 21,
   "metadata": {},
   "outputs": [],
   "source": [
    "# SIR step.\n",
    "def SIRstep(G_network, SIR_node, S, I, R, a, b, dt, skip_rate = 0):\n",
    "    if(type(G_network) == nx.classes.graph.Graph):\n",
    "        G_network = networkx_to_matrix(G_network)\n",
    "    elif(type(G_network) != np.ndarray):\n",
    "        print(\"Type of the first input can only be graph or graph matrix.\")\n",
    "        assert(0)\n",
    "\n",
    "    N = S + I + R\n",
    "    I_list = np.where((SIR_node == 1) | (SIR_node == 3) | (SIR_node == 4))[0]\n",
    "    I_list_tmp = I_list\n",
    "    S_list = np.where((SIR_node == 0) | (SIR_node == 5))[0]\n",
    "\n",
    "    # Change the state of infected people\n",
    "    for i in I_list:\n",
    "        if(SIR_node[i] == 3):\n",
    "            SIR_node[i] = 4\n",
    "        elif(SIR_node[i] == 4):\n",
    "            SIR_node[i] = 1\n",
    "\n",
    "    # Spread\n",
    "    for i in S_list:\n",
    "        if (I_list_tmp.size > 0) and (i == I_list_tmp[0]):\n",
    "            np.delete(I_list_tmp, 0)\n",
    "            continue\n",
    "        for j in I_list_tmp:\n",
    "            if(G_network[i, j] == 1) & (np.random.random_sample() < (1 - skip_rate)):\n",
    "                if (SIR_node[i] == 0) and (np.random.random_sample() < a * dt):\n",
    "                    S, I = S-1, I+1\n",
    "                    SIR_node[i] = 3\n",
    "                elif (SIR_node[i] == 5) and (np.random.random_sample() < a * (1 - eff) * dt):\n",
    "                    S, I = S-1, I+1\n",
    "                    SIR_node[i] = 3\n",
    "\n",
    "    # Recover\n",
    "    for i in I_list:\n",
    "        if (np.random.random_sample() < b*dt):\n",
    "            if (np.random.random_sample() < Re_S):\n",
    "                I, S = I-1, S+1\n",
    "                SIR_node[i] = 0\n",
    "            else:\n",
    "                I, R = I-1, R+1\n",
    "                SIR_node[i] = 2\n",
    "            \n",
    "    return S, I, R"
   ]
  },
  {
   "cell_type": "markdown",
   "metadata": {},
   "source": [
    "## Generate Network Models\n",
    "\n",
    "The following two blocks generate two network models: the Small-world model and Barabási–Albert (BA) model."
   ]
  },
  {
   "cell_type": "markdown",
   "metadata": {},
   "source": [
    "### Small-World Model\n",
    "In real-world interactions, many individuals have a limited and, often at least, a fixed number of connections. \\[5\\]\n",
    "\n",
    "Therefore, the small-world model assumes that people have the same number of neighbors, and also, they may connect to not neighbored people. So we also need to introduce a reconnection probability, which is $p\\_rewire = 0.05$ --- the probability that one node drops the edge with its neighbor and connects to a node that is not its neighbor.\n",
    "\n",
    "<img style=\"float:center;\" src=\"./Small_world.png\" width = \"50%\">"
   ]
  },
  {
   "cell_type": "markdown",
   "metadata": {},
   "source": [
    "The small-world model is not a scale-free model. Still, since we need to imitate the spread of disease in a confined community, people are more likely to contact the people near to them, especially when the community is super large. But this model may have the problem that it does not consider the case of superspreader. [5]"
   ]
  },
  {
   "cell_type": "code",
   "execution_count": 22,
   "metadata": {},
   "outputs": [
    {
     "name": "stdout",
     "output_type": "stream",
     "text": [
      "This small-world model have 6000 edges.\n"
     ]
    }
   ],
   "source": [
    "# Generate Small-World Model\n",
    "p_rewire = 0.05\n",
    "G_SW = nx.generators.random_graphs.watts_strogatz_graph(N, contact_num, p_rewire)\n",
    "G_SW_matrix = networkx_to_matrix(G_SW)\n",
    "SIR_SW = np.zeros(N)\n",
    "print(\"This small-world model have\", G_SW.number_of_edges(), \"edges.\")"
   ]
  },
  {
   "cell_type": "markdown",
   "metadata": {},
   "source": [
    "### Barabási–Albert (BA) Model\n",
    "\n",
    "Many networks are highly right-skewed, most vertices have only a low degree, but there is a small number whose degree is very high.[5]\n",
    "\n",
    "BA-model is a scale-free model built from a small group of people and gradually adds new people to this group. And the new coming people are more likely to connect to the persons with a large degree.\n",
    "\n",
    "So sometimes BA model can better imitate the real world since it also considers the case of superspreader. But if the community is large enough, people can hardly contact those far from them; even they are very famous. So, the BA model can better estimate the connection in a small community like in this case."
   ]
  },
  {
   "cell_type": "code",
   "execution_count": 23,
   "metadata": {},
   "outputs": [
    {
     "name": "stdout",
     "output_type": "stream",
     "text": [
      "This BA model have 5964 edges.\n"
     ]
    }
   ],
   "source": [
    "# Generate BA Model\n",
    "edge_of_new = contact_num // 2\n",
    "G_BA = nx.generators.random_graphs.barabasi_albert_graph(N, edge_of_new)\n",
    "G_BA_matrix = networkx_to_matrix(G_BA)\n",
    "SIR_BA = np.zeros(N)\n",
    "print(\"This BA model have\", G_BA.number_of_edges(), \"edges.\")"
   ]
  },
  {
   "cell_type": "markdown",
   "metadata": {},
   "source": [
    "## Spread of COVID\n",
    "\n",
    "Begin to model the spread of COVID."
   ]
  },
  {
   "cell_type": "code",
   "execution_count": 24,
   "metadata": {},
   "outputs": [
    {
     "name": "stdout",
     "output_type": "stream",
     "text": [
      "[797, 126, 955, 146, 1]\n"
     ]
    }
   ],
   "source": [
    "# Randomly choose I0 people infected to begin with.\n",
    "# S = 0, I = 1, R = 2\n",
    "indices = random.sample(list(range(N)), I0 - 1)\n",
    "indices = indices + [1]\n",
    "print(indices)"
   ]
  },
  {
   "cell_type": "code",
   "execution_count": 25,
   "metadata": {},
   "outputs": [
    {
     "name": "stderr",
     "output_type": "stream",
     "text": [
      "100%|██████████| 6/6 [01:05<00:00, 10.96s/it]\n"
     ]
    }
   ],
   "source": [
    "# Solve Small-world Model\n",
    "num_loop = 6\n",
    "X_SW_all = np.zeros((num_loop, Nt, 3))\n",
    "worse = 0\n",
    "worse_num = N\n",
    "for nn_model in tqdm(range(num_loop)):\n",
    "    Ss_SW, Is_SW, Rs_SW = S0, I0, R0\n",
    "    X_SW0 = [[Ss_SW, Is_SW, Rs_SW]]\n",
    "\n",
    "    SIR_SW = SIR_init(G_SW_matrix, indices)\n",
    "    for i in range(Nt - 1):\n",
    "        Ss_SW, Is_SW, Rs_SW = SIRstep(G_SW_matrix, SIR_SW, Ss_SW, Is_SW, Rs_SW, a, b, dt)\n",
    "        X_SW0 = X_SW0 + [[Ss_SW, Is_SW, Rs_SW]]   # Append to list\n",
    "\n",
    "    X_SW_all[nn_model] = np.asarray(X_SW0)\n",
    "    final_one = np.asarray(X_SW0)[Nt - 1, 0]\n",
    "\n",
    "    if(worse_num > final_one):\n",
    "        worse_num = final_one\n",
    "        worse = nn_model\n",
    "\n",
    "X_SW = X_SW_all[worse]"
   ]
  },
  {
   "cell_type": "code",
   "execution_count": 26,
   "metadata": {},
   "outputs": [
    {
     "name": "stderr",
     "output_type": "stream",
     "text": [
      "100%|██████████| 6/6 [00:47<00:00,  7.94s/it]\n"
     ]
    }
   ],
   "source": [
    "# Solve BA Model\n",
    "num_loop = 6\n",
    "X_BA_all = np.zeros((num_loop, Nt, 3))\n",
    "worse = 0\n",
    "worse_num = N\n",
    "for nn_model in tqdm(range(num_loop)):\n",
    "    Ss_BA, Is_BA, Rs_BA = S0, I0, R0\n",
    "    X_BA0 = [[Ss_BA, Is_BA, Rs_BA]]\n",
    "\n",
    "    SIR_BA = SIR_init(G_BA_matrix, indices)\n",
    "    for i in range(Nt - 1):\n",
    "        Ss_BA, Is_BA, Rs_BA = SIRstep(G_BA_matrix, SIR_BA, Ss_BA, Is_BA, Rs_BA, a, b, dt)\n",
    "        X_BA0 = X_BA0 + [[Ss_BA, Is_BA, Rs_BA]]   # Append to list\n",
    "\n",
    "    X_BA_all[nn_model] = np.asarray(X_BA0)\n",
    "    final_one = np.asarray(X_BA0)[Nt - 1, 0]\n",
    "\n",
    "    if(worse_num > final_one):\n",
    "        worse_num = final_one\n",
    "        worse = nn_model\n",
    "X_BA = X_BA_all[worse]"
   ]
  },
  {
   "cell_type": "code",
   "execution_count": 27,
   "metadata": {},
   "outputs": [],
   "source": [
    "# Store the models and solutions\n",
    "Model_graph_list = [G_SW_matrix, G_BA_matrix]\n",
    "num_model = len(Model_graph_list)\n",
    "Ss = np.zeros((num_model, T + 1))\n",
    "Is = np.zeros((num_model, T + 1))\n",
    "Rs = np.zeros((num_model, T + 1))\n",
    "\n",
    "Ss[0] = X_SW[:, 0]\n",
    "Is[0] = X_SW[:, 1]\n",
    "Rs[0] = X_SW[:, 2]\n",
    "\n",
    "Ss[1] = X_BA[:, 0]\n",
    "Is[1] = X_BA[:, 1]\n",
    "Rs[1] = X_BA[:, 2]"
   ]
  },
  {
   "cell_type": "markdown",
   "metadata": {},
   "source": [
    "Plot the change of SIR."
   ]
  },
  {
   "cell_type": "code",
   "execution_count": 28,
   "metadata": {},
   "outputs": [
    {
     "data": {
      "text/plain": [
       "<matplotlib.legend.Legend at 0x7fcf497d0d60>"
      ]
     },
     "execution_count": 28,
     "metadata": {},
     "output_type": "execute_result"
    },
    {
     "data": {
      "image/png": "[encoded data removed]",
      "text/plain": [
       "<Figure size 432x288 with 1 Axes>"
      ]
     },
     "metadata": {},
     "output_type": "display_data"
    },
    {
     "data": {
      "image/png": "[encoded data removed]",
      "text/plain": [
       "<Figure size 432x288 with 1 Axes>"
      ]
     },
     "metadata": {},
     "output_type": "display_data"
    }
   ],
   "source": [
    "# Plot deterministic and stochastic results in same figure\n",
    "# i_th_model = 0: Small-world model\n",
    "# i_th_model = 1: BA model\n",
    "i_th_model = 0\n",
    "\n",
    "fig = plt.figure(facecolor='w')\n",
    "plt.step(t, Ss[i_th_model], 'b--',  alpha=0.5, lw=2, label='S stochastic')\n",
    "plt.step(t, Is[i_th_model], 'r--',  alpha=0.5, lw=2, label='I stochastic')\n",
    "plt.step(t, Rs[i_th_model], 'k--',  alpha=0.5, lw=2, label='R stochastic')\n",
    "plt.xlabel('Time [days]')\n",
    "plt.ylabel('Population')\n",
    "plt.title('Small-world model')\n",
    "plt.grid()\n",
    "plt.legend()\n",
    "\n",
    "\n",
    "i_th_model = 1\n",
    "\n",
    "fig = plt.figure(facecolor='w')\n",
    "plt.step(t, Ss[i_th_model], 'b--',  alpha=0.5, lw=2, label='S stochastic')\n",
    "plt.step(t, Is[i_th_model], 'r--',  alpha=0.5, lw=2, label='I stochastic')\n",
    "plt.step(t, Rs[i_th_model], 'k--',  alpha=0.5, lw=2, label='R stochastic')\n",
    "plt.xlabel('Time [days]')\n",
    "plt.ylabel('Population')\n",
    "plt.title('BA model')\n",
    "plt.grid()\n",
    "plt.legend()"
   ]
  },
  {
   "cell_type": "markdown",
   "metadata": {},
   "source": [
    "This is also a helper function, which is used to plot the network graph."
   ]
  },
  {
   "cell_type": "code",
   "execution_count": 29,
   "metadata": {},
   "outputs": [],
   "source": [
    "def graph_plot(graph, indices1, indices2 = []):\n",
    "    Ss_model, Is_model, Rs_model = S0, I0, R0\n",
    "    X_model = [[Ss_model, Is_model, Rs_model]]\n",
    "\n",
    "    SIR_model = SIR_init(graph, indices1, indices2)\n",
    "    graph_time = 20\n",
    "    total_graph = Nt // graph_time + 1\n",
    "    rows = (total_graph - 1) // 2 + 1\n",
    "    flag = 1\n",
    "\n",
    "    num_graph = 2\n",
    "\n",
    "\n",
    "    plt.figure(num=None, figsize=(40, 20 * rows), dpi=160)\n",
    "\n",
    "    color_map = []\n",
    "    for i in range(N):\n",
    "        if((SIR_model[i] == 0) | (SIR_model[i] == 5)):\n",
    "            color_map.append('green')\n",
    "        elif((SIR_model[i] == 1) | (SIR_model[i] == 3) | (SIR_model[i] == 4)):\n",
    "            color_map.append('red')\n",
    "        else:\n",
    "            color_map.append('gray')\n",
    "\n",
    "    ax0 = plt.subplot(rows, 2, 1)      \n",
    "    ax0.title.set_text(\"t = 0\")\n",
    "    pos = nx.spring_layout(graph)\n",
    "\n",
    "    nx.draw_networkx_nodes(graph, pos, node_color = color_map)\n",
    "    nx.draw_networkx_edges(graph,pos)\n",
    "    nx.draw_networkx_labels(graph,pos)\n",
    "\n",
    "\n",
    "    for i in tqdm(range(1, Nt)):\n",
    "        Ss_model, Is_model, Rs_model = SIRstep(graph, SIR_model, Ss_model, Is_model, Rs_model, a, b, dt)\n",
    "        X_model = X_model + [[Ss_model, Is_model, Rs_model]]   # Append to list\n",
    "\n",
    "        if(i % graph_time == 0) & (flag != 0):\n",
    "            if(Is_model == 0):\n",
    "                flag = 0\n",
    "\n",
    "            color_map = []\n",
    "            for i in range(N):\n",
    "                if((SIR_model[i] == 0) | (SIR_model[i] == 5)):\n",
    "                    color_map.append('green')   \n",
    "                elif((SIR_model[i] == 1) | (SIR_model[i] == 3) | (SIR_model[i] == 4)):\n",
    "                    color_map.append('red')\n",
    "                else:\n",
    "                    color_map.append('gray')\n",
    "\n",
    "            ax = plt.subplot(rows, 2, num_graph)     \n",
    "            ax.title.set_text(\"t = {}\".format((num_graph - 1) * graph_time))\n",
    "            pos = nx.spring_layout(graph)\n",
    "\n",
    "            nx.draw_networkx_nodes(graph, pos, node_color = color_map)\n",
    "            nx.draw_networkx_edges(graph,pos)\n",
    "            nx.draw_networkx_labels(graph,pos)\n",
    "            num_graph += 1\n",
    "\n",
    "    plt.show()"
   ]
  },
  {
   "cell_type": "markdown",
   "metadata": {},
   "source": [
    "Plot the network graph."
   ]
  },
  {
   "cell_type": "code",
   "execution_count": 30,
   "metadata": {},
   "outputs": [],
   "source": [
    "# It will take about 70s to draw the plot.\n",
    "graph_plot(G_SW, indices1=indices)"
   ]
  },
  {
   "cell_type": "code",
   "execution_count": 33,
   "metadata": {},
   "outputs": [],
   "source": [
    "# It will take about 60s to draw the plot.\n",
    "graph_plot(G_BA, indices1=indices)"
   ]
  },
  {
   "cell_type": "markdown",
   "metadata": {},
   "source": [
    "According to the graph, the disease has infected almost everyone in the center (people with large degrees). And most of the green points (healthy people) are located outside the center (people with small degrees), which coincides with our suppose."
   ]
  },
  {
   "cell_type": "code",
   "execution_count": null,
   "metadata": {},
   "outputs": [],
   "source": []
  },
  {
   "cell_type": "markdown",
   "metadata": {},
   "source": [
    "# Part II: Compare the Model with Data in Aosta, Italy"
   ]
  },
  {
   "cell_type": "code",
   "execution_count": 34,
   "metadata": {},
   "outputs": [],
   "source": [
    "# Store the models and solutions\n",
    "methods_N = 7\n",
    "Model_graph_list = [G_SW_matrix, G_BA_matrix]\n",
    "num_model = len(Model_graph_list)\n",
    "Ss_all = np.zeros((methods_N, num_model, T + 1))\n",
    "Is_all = np.zeros((methods_N, num_model, T + 1))\n",
    "Rs_all = np.zeros((methods_N, num_model, T + 1))\n",
    "\n",
    "Ss_all[0] = Ss\n",
    "Is_all[0] = Is\n",
    "Rs_all[0] = Rs"
   ]
  },
  {
   "cell_type": "markdown",
   "metadata": {},
   "source": [
    "Aosta is a small city with about 34,300 population in Italy. Since it is small enough that everyone is close enough to contact anyone in this city, it can apply the BA model to this city.\n",
    "\n",
    "Since the first outbreak of COVID in this city was around October, people have already noticed that it is not a common disease, and people choose to cut down the frequency to go out. So the original model, which models the spread of COVID without intervening, may not be suitable for this data.\n",
    "\n",
    "So, we introduce our first intervention strategy, lockdown, and try to model the spread of COVID under lockdown to fit the data in Aosta."
   ]
  },
  {
   "cell_type": "markdown",
   "metadata": {},
   "source": [
    "## Lockdown"
   ]
  },
  {
   "cell_type": "markdown",
   "metadata": {},
   "source": [
    "When a lockdown is applied, we suppose the daily contact between people will go down $skip\\_rate = 78\\%$."
   ]
  },
  {
   "cell_type": "code",
   "execution_count": 35,
   "metadata": {},
   "outputs": [],
   "source": [
    "skip_rate = 0.78"
   ]
  },
  {
   "cell_type": "code",
   "execution_count": 36,
   "metadata": {},
   "outputs": [
    {
     "name": "stderr",
     "output_type": "stream",
     "text": [
      "100%|██████████| 6/6 [00:01<00:00,  3.46it/s]\n"
     ]
    }
   ],
   "source": [
    "# Solve Small-world Model\n",
    "num_loop = 6\n",
    "X_SW_all = np.zeros((num_loop, Nt, 3))\n",
    "worse = 0\n",
    "worse_num = N\n",
    "for nn_model in tqdm(range(num_loop)):\n",
    "    Ss_SW, Is_SW, Rs_SW = S0, I0, R0\n",
    "    X_SW0 = [[Ss_SW, Is_SW, Rs_SW]]\n",
    "\n",
    "    SIR_SW = SIR_init(G_SW_matrix, indices)\n",
    "    for i in range(Nt - 1):\n",
    "        Ss_SW, Is_SW, Rs_SW = SIRstep(G_SW_matrix, SIR_SW, Ss_SW, Is_SW, Rs_SW, a, b, dt, skip_rate)\n",
    "        X_SW0 = X_SW0 + [[Ss_SW, Is_SW, Rs_SW]]   # Append to list\n",
    "    X_SW_all[nn_model] = np.asarray(X_SW0)\n",
    "    final_one = np.asarray(X_SW0)[Nt - 1, 0]\n",
    "    \n",
    "    if(worse_num > final_one):\n",
    "        worse_num = final_one\n",
    "        worse = nn_model\n",
    "X_SW = X_SW_all[worse]"
   ]
  },
  {
   "cell_type": "code",
   "execution_count": 37,
   "metadata": {},
   "outputs": [
    {
     "name": "stderr",
     "output_type": "stream",
     "text": [
      "100%|██████████| 12/12 [00:10<00:00,  1.12it/s]\n"
     ]
    }
   ],
   "source": [
    "# Solve BA Model\n",
    "num_loop = 12\n",
    "X_BA_all = np.zeros((num_loop, Nt, 3))\n",
    "worse = 0\n",
    "worse_num = N\n",
    "for nn_model in tqdm(range(num_loop)):\n",
    "    Ss_BA, Is_BA, Rs_BA = S0, I0, R0\n",
    "    X_BA0 = [[Ss_BA, Is_BA, Rs_BA]]\n",
    "\n",
    "    SIR_BA = SIR_init(G_BA_matrix, indices)\n",
    "    for i in range(Nt - 1):\n",
    "        Ss_BA, Is_BA, Rs_BA = SIRstep(G_BA_matrix, SIR_BA, Ss_BA, Is_BA, Rs_BA, a, b, dt, skip_rate)\n",
    "        X_BA0 = X_BA0 + [[Ss_BA, Is_BA, Rs_BA]]   # Append to list\n",
    "    X_BA_all[nn_model] = np.asarray(X_BA0)\n",
    "    final_one = np.asarray(X_BA0)[Nt - 1, 0]\n",
    "        \n",
    "    if(worse_num > final_one):\n",
    "        worse_num = final_one\n",
    "        worse = nn_model\n",
    "X_BA = X_BA_all[worse]"
   ]
  },
  {
   "cell_type": "code",
   "execution_count": 38,
   "metadata": {},
   "outputs": [],
   "source": [
    "# Store the value\n",
    "Ss_all[1, 0] = X_SW[:, 0]\n",
    "Is_all[1, 0] = X_SW[:, 1]\n",
    "Rs_all[1, 0] = X_SW[:, 2]\n",
    "\n",
    "Ss_all[1, 1] = X_BA[:, 0]\n",
    "Is_all[1, 1] = X_BA[:, 1]\n",
    "Rs_all[1, 1] = X_BA[:, 2]"
   ]
  },
  {
   "cell_type": "markdown",
   "metadata": {},
   "source": [
    "The following cell stores the data in Aosta, Italy.\n",
    "\n",
    "The total population in this city is 34,000, and we store the data from September 1st, 2020."
   ]
  },
  {
   "cell_type": "code",
   "execution_count": 40,
   "metadata": {},
   "outputs": [],
   "source": [
    "N_Aosta = 34000\n",
    "I_Aosta = np.zeros(173)\n",
    "I_Aosta[0] = 0\n",
    "i = 0\n",
    "f = open(\"Aosta_Italy.txt\", \"r\")\n",
    "for i in range(1, 173):\n",
    "    line = f.readline()\n",
    "    if(line == ''):\n",
    "        break\n",
    "    I_Aosta[i] = I_Aosta[i - 1] + int(line)"
   ]
  },
  {
   "cell_type": "markdown",
   "metadata": {},
   "source": [
    "Since my computer cannot support calculating a network with 30,000+ nodes, we scale the data of the toy BA model and compare it with the data in Aosta, Italy."
   ]
  },
  {
   "cell_type": "code",
   "execution_count": 41,
   "metadata": {},
   "outputs": [
    {
     "data": {
      "text/plain": [
       "<matplotlib.legend.Legend at 0x7fcf4a173fd0>"
      ]
     },
     "execution_count": 41,
     "metadata": {},
     "output_type": "execute_result"
    },
    {
     "data": {
      "image/png": "[encoded data removed]",
      "text/plain": [
       "<Figure size 432x288 with 1 Axes>"
      ]
     },
     "metadata": {},
     "output_type": "display_data"
    }
   ],
   "source": [
    "i_th_model = 1\n",
    "fig = plt.figure(facecolor='w')\n",
    "t_131 = np.linspace(0, 130, 131)\n",
    "Ss_scale = Ss_all[1, i_th_model] * N_Aosta / N\n",
    "Is_scale = Is_all[1, i_th_model] * N_Aosta / N\n",
    "\n",
    "Ss_Aosta = N_Aosta * np.ones(131)\n",
    "Is_Aosta = I_Aosta[25 : 25 + 130 + 1]\n",
    "Ss_Aosta = Ss_Aosta - (1 - Re_S) * Is_Aosta\n",
    "\n",
    "plt.step(t_131, Ss_scale[0 : 131], 'b--',  alpha=0.5, lw=2, label='S predict')\n",
    "plt.step(t_131, Ss_Aosta, 'b',  alpha=0.5, lw=2, label='S_Aosta')\n",
    "\n",
    "plt.xlabel('Time [days]')\n",
    "plt.ylabel('Population')\n",
    "plt.grid()\n",
    "plt.legend()"
   ]
  },
  {
   "cell_type": "markdown",
   "metadata": {},
   "source": [
    "When it starts appropriately, the BA model will fit the data in Aosta, Italy, pretty well for most cases. Since there is some randomness in this model, so if the plot looks not good, maybe you can run the cell from \"Lockdown\" again."
   ]
  },
  {
   "cell_type": "markdown",
   "metadata": {},
   "source": [
    "# Part III: Intervene"
   ]
  },
  {
   "cell_type": "markdown",
   "metadata": {},
   "source": [
    "In this part, we are trying to lower the damage of this disease, that is, low down the number of infected people by COVID.\n",
    "\n",
    "We have several ideas about how to control the disease, but we do not know which one will be best suited to this community. \n",
    "\n",
    "The first one is vaccination. Using this method, we give the vaccine to those healthy people every day, protecting them from getting COVID. \n",
    "\n",
    "And the second is locking down. We control to cut down the number of close contact in this community by shutting down bars, schools, and other social places. \n",
    "\n",
    "And the last one is to quarantine people who show symptoms, those who show symptoms are not allowed to contact anyone within ten days.\n",
    "\n",
    "Therefore, in this part, we will find which method is the best for this community. And according to the research, we can guide the local government in this community can use this intervention method to stop the spread of COVID."
   ]
  },
  {
   "cell_type": "markdown",
   "metadata": {},
   "source": [
    "## Vaccination"
   ]
  },
  {
   "cell_type": "markdown",
   "metadata": {},
   "source": [
    "Using this method, we suppose $Vac\\_rate = 80\\%$ of the people in this community will get the vaccine, and there will be $Vac\\_daily = 20$ people get the vaccine each day.\n",
    "\n",
    "The effectiveness of vaccine is $eff = 88\\%$ (Pfizer against Delta variant).\n",
    "\n",
    "We only give the vaccine to sensitive people, those who have already caught or recovered from the COVID will not be vaccinated. So maybe the vaccinated rate is lower than 80\\%."
   ]
  },
  {
   "cell_type": "code",
   "execution_count": 42,
   "metadata": {},
   "outputs": [],
   "source": [
    "Vac_rate = 0.8\n",
    "Vac_N = int(N * Vac_rate)\n",
    "Vac_daily = 20\n",
    "eff = 0.88"
   ]
  },
  {
   "cell_type": "markdown",
   "metadata": {},
   "source": [
    "### Vaccinate random people every day\n",
    "\n",
    "In this part, we randomly choose sensitive people to give the vaccine."
   ]
  },
  {
   "cell_type": "code",
   "execution_count": 43,
   "metadata": {},
   "outputs": [
    {
     "name": "stderr",
     "output_type": "stream",
     "text": [
      "100%|██████████| 6/6 [00:12<00:00,  2.13s/it]\n"
     ]
    }
   ],
   "source": [
    "# Solve Small-world Model\n",
    "num_loop = 6\n",
    "X_SW_all = np.zeros((num_loop, Nt, 3))\n",
    "worse = 0\n",
    "worse_num = N\n",
    "for nn_model in tqdm(range(num_loop)):\n",
    "    Ss_SW, Is_SW, Rs_SW = S0, I0, R0\n",
    "    X_SW0 = [[Ss_SW, Is_SW, Rs_SW]]\n",
    "    Vac_already = 0\n",
    "\n",
    "    SIR_SW = SIR_init(G_SW_matrix, indices)\n",
    "    for i in range(Nt - 1):\n",
    "        # Vaccine\n",
    "        if(Vac_N > Vac_already):\n",
    "            S_list = np.where(SIR_SW == 0)[0]\n",
    "            if(len(list(S_list)) <= Vac_daily):\n",
    "                Vac = list(S_list)\n",
    "                Vac_already += len(list(S_list))\n",
    "            else:\n",
    "                Vac = random.sample(list(S_list), Vac_daily)\n",
    "                Vac_already += 15\n",
    "            Vac.sort()\n",
    "            SIR_SW[Vac] = 5\n",
    "\n",
    "        # Spread\n",
    "        Ss_SW, Is_SW, Rs_SW = SIRstep(G_SW_matrix, SIR_SW, Ss_SW, Is_SW, Rs_SW, a, b, dt)\n",
    "        X_SW0 = X_SW0 + [[Ss_SW, Is_SW, Rs_SW]]   # Append to list\n",
    "\n",
    "    X_SW_all[nn_model] = np.asarray(X_SW0)\n",
    "    final_one = np.asarray(X_SW0)[Nt - 1, 0]\n",
    "\n",
    "    if(worse_num > final_one):\n",
    "        worse_num = final_one\n",
    "        worse = nn_model\n",
    "\n",
    "X_SW = X_SW_all[worse]"
   ]
  },
  {
   "cell_type": "code",
   "execution_count": 44,
   "metadata": {},
   "outputs": [
    {
     "name": "stderr",
     "output_type": "stream",
     "text": [
      "100%|██████████| 6/6 [00:39<00:00,  6.61s/it]\n"
     ]
    }
   ],
   "source": [
    "# Solve BA Model\n",
    "num_loop = 6\n",
    "X_BA_all = np.zeros((num_loop, Nt, 3))\n",
    "worse = 0\n",
    "worse_num = N\n",
    "for nn_model in tqdm(range(num_loop)):\n",
    "    Ss_BA, Is_BA, Rs_BA = S0, I0, R0\n",
    "    X_BA0 = [[Ss_BA, Is_BA, Rs_BA]]\n",
    "    Vac_already = 0\n",
    "\n",
    "    SIR_BA = SIR_init(G_BA_matrix, indices)\n",
    "    for i in range(Nt - 1):\n",
    "        # Vaccine\n",
    "        if(Vac_N > Vac_already):\n",
    "            S_list = np.where(SIR_BA == 0)[0]\n",
    "            if(len(list(S_list)) <= Vac_daily):\n",
    "                Vac = list(S_list)\n",
    "                Vac_already += len(list(S_list))\n",
    "            else:\n",
    "                Vac = random.sample(list(S_list), Vac_daily)\n",
    "                Vac_already += 15\n",
    "            Vac.sort()\n",
    "            SIR_BA[Vac] = 5\n",
    "\n",
    "        Ss_BA, Is_BA, Rs_BA = SIRstep(G_BA_matrix, SIR_BA, Ss_BA, Is_BA, Rs_BA, a, b, dt)\n",
    "        X_BA0 = X_BA0 + [[Ss_BA, Is_BA, Rs_BA]]   # Append to list\n",
    "    X_BA_all[nn_model] = np.asarray(X_BA0)\n",
    "    final_one = np.asarray(X_BA0)[Nt - 1, 0]\n",
    "\n",
    "    if(worse_num > final_one):\n",
    "        worse_num = final_one\n",
    "        worse = nn_model\n",
    "X_BA = X_BA_all[worse]"
   ]
  },
  {
   "cell_type": "code",
   "execution_count": 45,
   "metadata": {},
   "outputs": [],
   "source": [
    "# Store the value\n",
    "Ss_all[2, 0] = X_SW[:, 0]\n",
    "Is_all[2, 0] = X_SW[:, 1]\n",
    "Rs_all[2, 0] = X_SW[:, 2]\n",
    "\n",
    "Ss_all[2, 1] = X_BA[:, 0]\n",
    "Is_all[2, 1] = X_BA[:, 1]\n",
    "Rs_all[2, 1] = X_BA[:, 2]"
   ]
  },
  {
   "cell_type": "markdown",
   "metadata": {},
   "source": [
    "### Selectively Vaccine\n",
    "\n",
    "In this part, we first give the vaccine to those with large degrees. And since these people are more likely to be infected, it is expected to be better than randomly giving the vaccine."
   ]
  },
  {
   "cell_type": "code",
   "execution_count": 46,
   "metadata": {},
   "outputs": [
    {
     "name": "stderr",
     "output_type": "stream",
     "text": [
      "100%|██████████| 6/6 [00:10<00:00,  1.69s/it]\n"
     ]
    }
   ],
   "source": [
    "# Solve Small-world Model\n",
    "num_loop = 6\n",
    "X_SW_all = np.zeros((num_loop, Nt, 3))\n",
    "worse = 0\n",
    "worse_num = N\n",
    "for nn_model in tqdm(range(num_loop)):\n",
    "    Ss_SW, Is_SW, Rs_SW = S0, I0, R0\n",
    "    X_SW0 = [[Ss_SW, Is_SW, Rs_SW]]\n",
    "    Vac_already = 0\n",
    "    point = 0\n",
    "    degree = np.zeros(N)\n",
    "    for i in range(N):\n",
    "        degree[i] = G_SW.degree(i)\n",
    "    degree_sorted = degree.argsort()[::-1]\n",
    "\n",
    "\n",
    "    SIR_SW = SIR_init(G_SW_matrix, indices)\n",
    "    for i in range(Nt - 1):\n",
    "        # Vaccine\n",
    "        Vac_today = 0\n",
    "        S_list = np.where(SIR_SW == 0)[0]\n",
    "        while((Vac_today < Vac_daily) & (point < N)):\n",
    "            if degree_sorted[point] in S_list:\n",
    "                SIR_SW[degree_sorted[point]] = 5\n",
    "                Vac_already += 1\n",
    "                Vac_today += 1\n",
    "            point += 1    \n",
    "\n",
    "        # Spread\n",
    "        Ss_SW, Is_SW, Rs_SW = SIRstep(G_SW_matrix, SIR_SW, Ss_SW, Is_SW, Rs_SW, a, b, dt)\n",
    "        X_SW0 = X_SW0 + [[Ss_SW, Is_SW, Rs_SW]]   # Append to list\n",
    "    X_SW_all[nn_model] = np.asarray(X_SW0)\n",
    "    final_one = np.asarray(X_SW0)[Nt - 1, 0]\n",
    "    \n",
    "    if(worse_num > final_one):\n",
    "        worse_num = final_one\n",
    "        worse = nn_model\n",
    "X_SW = X_SW_all[worse]"
   ]
  },
  {
   "cell_type": "code",
   "execution_count": 47,
   "metadata": {},
   "outputs": [
    {
     "name": "stderr",
     "output_type": "stream",
     "text": [
      "100%|██████████| 6/6 [00:40<00:00,  6.75s/it]\n"
     ]
    }
   ],
   "source": [
    "# Solve BA Model\n",
    "num_loop = 6\n",
    "X_BA_all = np.zeros((num_loop, Nt, 3))\n",
    "worse = 0\n",
    "worse_num = N\n",
    "for nn_model in tqdm(range(num_loop)):\n",
    "    Ss_BA, Is_BA, Rs_BA = S0, I0, R0\n",
    "    X_BA0 = [[Ss_BA, Is_BA, Rs_BA]]\n",
    "    Vac_already = 0\n",
    "    point = 0\n",
    "    degree = np.zeros(N)\n",
    "    for i in range(N):\n",
    "        degree[i] = G_SW.degree(i)\n",
    "    degree_sorted = degree.argsort()[::-1]\n",
    "\n",
    "\n",
    "    SIR_BA = SIR_init(G_BA_matrix, indices)\n",
    "    for i in range(Nt - 1):\n",
    "        # Vaccine\n",
    "        Vac_today = 0\n",
    "        S_list = np.where(SIR_BA == 0)[0]\n",
    "        while((Vac_today < Vac_daily) & (point < N)):\n",
    "            if degree_sorted[point] in S_list:\n",
    "                SIR_BA[degree_sorted[point]] = 5\n",
    "                Vac_already += 1\n",
    "                Vac_today += 1\n",
    "            point += 1 \n",
    "\n",
    "        Ss_BA, Is_BA, Rs_BA = SIRstep(G_BA_matrix, SIR_BA, Ss_BA, Is_BA, Rs_BA, a, b, dt)\n",
    "        X_BA0 = X_BA0 + [[Ss_BA, Is_BA, Rs_BA]]   # Append to list\n",
    "    X_BA_all[nn_model] = np.asarray(X_BA0)\n",
    "    final_one = np.asarray(X_BA0)[Nt - 1, 0]\n",
    "    \n",
    "    if(worse_num > final_one):\n",
    "        worse_num = final_one\n",
    "        worse = nn_model\n",
    "X_BA = X_BA_all[worse]"
   ]
  },
  {
   "cell_type": "code",
   "execution_count": 48,
   "metadata": {},
   "outputs": [],
   "source": [
    "# Store the value\n",
    "Ss_all[3, 0] = X_SW[:, 0]\n",
    "Is_all[3, 0] = X_SW[:, 1]\n",
    "Rs_all[3, 0] = X_SW[:, 2]\n",
    "\n",
    "Ss_all[3, 1] = X_BA[:, 0]\n",
    "Is_all[3, 1] = X_BA[:, 1]\n",
    "Rs_all[3, 1] = X_BA[:, 2]"
   ]
  },
  {
   "cell_type": "markdown",
   "metadata": {},
   "source": [
    "## Random Vaccine and Lockdown\n",
    "\n",
    "In this part, we combine the method of randomly giving the vaccine to people and the lockdown strategy. But now we low down the lockdown rate to 50\\%."
   ]
  },
  {
   "cell_type": "code",
   "execution_count": 49,
   "metadata": {},
   "outputs": [],
   "source": [
    "Vac_rate = 0.8\n",
    "Vac_N = int(N * Vac_rate)\n",
    "Vac_daily = 25\n",
    "eff = 0.88\n",
    "skip_rate = 0.5"
   ]
  },
  {
   "cell_type": "code",
   "execution_count": 50,
   "metadata": {},
   "outputs": [
    {
     "name": "stderr",
     "output_type": "stream",
     "text": [
      "100%|██████████| 6/6 [00:03<00:00,  1.82it/s]\n"
     ]
    }
   ],
   "source": [
    "# Solve Small-world Model\n",
    "num_loop = 6\n",
    "X_SW_all = np.zeros((num_loop, Nt, 3))\n",
    "worse = 0\n",
    "worse_num = N\n",
    "for nn_model in tqdm(range(num_loop)):\n",
    "    Ss_SW, Is_SW, Rs_SW = S0, I0, R0\n",
    "    X_SW0 = [[Ss_SW, Is_SW, Rs_SW]]\n",
    "    Vac_already = 0\n",
    "\n",
    "    SIR_SW = SIR_init(G_SW_matrix, indices)\n",
    "    for i in range(Nt - 1):\n",
    "        # Vaccine\n",
    "        if(Vac_N > Vac_already):\n",
    "            S_list = np.where(SIR_SW == 0)[0]\n",
    "            if(len(list(S_list)) <= Vac_daily):\n",
    "                Vac = list(S_list)\n",
    "                Vac_already += len(list(S_list))\n",
    "            else:\n",
    "                Vac = random.sample(list(S_list), Vac_daily)\n",
    "                Vac_already += 15\n",
    "            Vac.sort()\n",
    "            SIR_SW[Vac] = 5\n",
    "\n",
    "        # Spread\n",
    "        Ss_SW, Is_SW, Rs_SW = SIRstep(G_SW_matrix, SIR_SW, Ss_SW, Is_SW, Rs_SW, a, b, dt, skip_rate)\n",
    "        X_SW0 = X_SW0 + [[Ss_SW, Is_SW, Rs_SW]]   # Append to list\n",
    "\n",
    "    X_SW_all[nn_model] = np.asarray(X_SW0)\n",
    "    final_one = np.asarray(X_SW0)[Nt - 1, 0]\n",
    "\n",
    "    if(worse_num > final_one):\n",
    "        worse_num = final_one\n",
    "        worse = nn_model\n",
    "\n",
    "X_SW = X_SW_all[worse]"
   ]
  },
  {
   "cell_type": "code",
   "execution_count": 51,
   "metadata": {},
   "outputs": [
    {
     "name": "stderr",
     "output_type": "stream",
     "text": [
      "100%|██████████| 6/6 [00:11<00:00,  1.94s/it]\n"
     ]
    }
   ],
   "source": [
    "# Solve BA Model\n",
    "num_loop = 6\n",
    "X_BA_all = np.zeros((num_loop, Nt, 3))\n",
    "worse = 0\n",
    "worse_num = N\n",
    "for nn_model in tqdm(range(num_loop)):\n",
    "    Ss_BA, Is_BA, Rs_BA = S0, I0, R0\n",
    "    X_BA0 = [[Ss_BA, Is_BA, Rs_BA]]\n",
    "    Vac_already = 0\n",
    "\n",
    "    SIR_BA = SIR_init(G_BA_matrix, indices)\n",
    "    for i in range(Nt - 1):\n",
    "        # Vaccine\n",
    "        if(Vac_N > Vac_already):\n",
    "            S_list = np.where(SIR_BA == 0)[0]\n",
    "            if(len(list(S_list)) <= Vac_daily):\n",
    "                Vac = list(S_list)\n",
    "                Vac_already += len(list(S_list))\n",
    "            else:\n",
    "                Vac = random.sample(list(S_list), Vac_daily)\n",
    "                Vac_already += 15\n",
    "            Vac.sort()\n",
    "            SIR_BA[Vac] = 5\n",
    "\n",
    "        Ss_BA, Is_BA, Rs_BA = SIRstep(G_BA_matrix, SIR_BA, Ss_BA, Is_BA, Rs_BA, a, b, dt, skip_rate)\n",
    "        X_BA0 = X_BA0 + [[Ss_BA, Is_BA, Rs_BA]]   # Append to list\n",
    "    X_BA_all[nn_model] = np.asarray(X_BA0)\n",
    "    final_one = np.asarray(X_BA0)[Nt - 1, 0]\n",
    "\n",
    "    if(worse_num > final_one):\n",
    "        worse_num = final_one\n",
    "        worse = nn_model\n",
    "X_BA = X_BA_all[worse]"
   ]
  },
  {
   "cell_type": "code",
   "execution_count": 52,
   "metadata": {},
   "outputs": [],
   "source": [
    "# Store the value\n",
    "Ss_all[4, 0] = X_SW[:, 0]\n",
    "Is_all[4, 0] = X_SW[:, 1]\n",
    "Rs_all[4, 0] = X_SW[:, 2]\n",
    "\n",
    "Ss_all[4, 1] = X_BA[:, 0]\n",
    "Is_all[4, 1] = X_BA[:, 1]\n",
    "Rs_all[4, 1] = X_BA[:, 2]"
   ]
  },
  {
   "cell_type": "markdown",
   "metadata": {},
   "source": [
    "## Quarantine"
   ]
  },
  {
   "cell_type": "markdown",
   "metadata": {},
   "source": [
    "When people show symptoms of COVID, they are not allowed to contact anyone within ten days.\n",
    "\n",
    "After ten days, if they are still showing symptoms, they cannot contact anyone for ten days more."
   ]
  },
  {
   "cell_type": "code",
   "execution_count": 53,
   "metadata": {},
   "outputs": [],
   "source": [
    "Q_day = 10"
   ]
  },
  {
   "cell_type": "markdown",
   "metadata": {},
   "source": [
    "Since if we still start the spread of disease with the point we chose before, the outcome of this intervention method will almost be one line. \n",
    "\n",
    "Therefore, to show the performance of quarantine, we start with points 0 - 4 (those with large degrees) here."
   ]
  },
  {
   "cell_type": "code",
   "execution_count": 54,
   "metadata": {},
   "outputs": [],
   "source": [
    "indice = [0, 1, 2, 3, 4]"
   ]
  },
  {
   "cell_type": "code",
   "execution_count": 55,
   "metadata": {},
   "outputs": [
    {
     "name": "stderr",
     "output_type": "stream",
     "text": [
      "100%|██████████| 6/6 [00:03<00:00,  1.64it/s]\n"
     ]
    }
   ],
   "source": [
    "# Solve Small-world Model\n",
    "num_loop = 6\n",
    "X_SW_all = np.zeros((num_loop, Nt, 3))\n",
    "worse = 0\n",
    "worse_num = N\n",
    "for nn_model in tqdm(range(num_loop)):\n",
    "    Ss_SW, Is_SW, Rs_SW = S0, I0, R0\n",
    "    X_SW0 = [[Ss_SW, Is_SW, Rs_SW]]\n",
    "    Q_state = np.zeros(N)\n",
    "\n",
    "    SIR_SW = SIR_init(G_SW_matrix, indice)\n",
    "    for i in range(Nt - 1):\n",
    "        I_list = np.where(SIR_SW == 1)[0]\n",
    "        G_SW_matrix_temp = np.copy(G_SW_matrix)\n",
    "        for i in I_list:\n",
    "            if(Q_state[i] == 0):\n",
    "                Q_state[i] = 10\n",
    "        \n",
    "        for i in range(N):\n",
    "            if(Q_state[i] != 0):\n",
    "                for j in range(N):\n",
    "                    G_SW_matrix_temp[i, j] = 0\n",
    "                    G_SW_matrix_temp[j, i] = 0\n",
    "\n",
    "\n",
    "        Ss_SW, Is_SW, Rs_SW = SIRstep(G_SW_matrix_temp, SIR_SW, Ss_SW, Is_SW, Rs_SW, a, b, dt)\n",
    "        X_SW0 = X_SW0 + [[Ss_SW, Is_SW, Rs_SW]]   # Append to list\n",
    "        Q_state[Q_state > 0] -= 1\n",
    "\n",
    "    X_SW_all[nn_model] = np.asarray(X_SW0)\n",
    "    final_one = np.asarray(X_SW0)[Nt - 1, 0]\n",
    "    \n",
    "    if(worse_num > final_one):\n",
    "        worse_num = final_one\n",
    "        worse = nn_model\n",
    "X_SW = X_SW_all[worse]"
   ]
  },
  {
   "cell_type": "code",
   "execution_count": 56,
   "metadata": {},
   "outputs": [
    {
     "name": "stderr",
     "output_type": "stream",
     "text": [
      "100%|██████████| 6/6 [00:09<00:00,  1.63s/it]\n"
     ]
    }
   ],
   "source": [
    "# Solve BA Model\n",
    "num_loop = 6\n",
    "X_BA_all = np.zeros((num_loop, Nt, 3))\n",
    "worse = 0\n",
    "worse_num = N\n",
    "for nn_model in tqdm(range(num_loop)):\n",
    "    Ss_BA, Is_BA, Rs_BA = S0, I0, R0\n",
    "    X_BA0 = [[Ss_BA, Is_BA, Rs_BA]]\n",
    "    Q_state = np.zeros(N)\n",
    "\n",
    "    SIR_BA = SIR_init(G_BA_matrix, indice)\n",
    "    for i in range(Nt - 1):\n",
    "        I_list = np.where(SIR_BA == 1)[0]\n",
    "\n",
    "        G_BA_matrix_temp = np.copy(G_BA_matrix)\n",
    "        for i in I_list:\n",
    "            if(Q_state[i] == 0):\n",
    "                Q_state[i] = 10\n",
    "        \n",
    "        for i in range(N):\n",
    "            if(Q_state[i] != 0):\n",
    "                for j in range(N):\n",
    "                    G_BA_matrix_temp[i, j] = 0\n",
    "                    G_BA_matrix_temp[j, i] = 0\n",
    "\n",
    "\n",
    "        Ss_BA, Is_BA, Rs_BA = SIRstep(G_BA_matrix_temp, SIR_BA, Ss_BA, Is_BA, Rs_BA, a, b, dt)\n",
    "        X_BA0 = X_BA0 + [[Ss_BA, Is_BA, Rs_BA]]   # Append to list\n",
    "        Q_state[Q_state > 0] -= 1\n",
    "    X_BA_all[nn_model] = np.asarray(X_BA0)\n",
    "    final_one = np.asarray(X_BA0)[Nt - 1, 0]\n",
    "        \n",
    "    if(worse_num > final_one):\n",
    "        worse_num = final_one\n",
    "        worse = nn_model\n",
    "X_BA = X_BA_all[worse]"
   ]
  },
  {
   "cell_type": "code",
   "execution_count": 57,
   "metadata": {},
   "outputs": [],
   "source": [
    "# Store the value\n",
    "Ss_all[5, 0] = X_SW[:, 0]\n",
    "Is_all[5, 0] = X_SW[:, 1]\n",
    "Rs_all[5, 0] = X_SW[:, 2]\n",
    "\n",
    "Ss_all[5, 1] = X_BA[:, 0]\n",
    "Is_all[5, 1] = X_BA[:, 1]\n",
    "Rs_all[5, 1] = X_BA[:, 2]"
   ]
  },
  {
   "cell_type": "markdown",
   "metadata": {},
   "source": [
    "## Random Vaccine and Quarantine\n",
    "\n",
    "In this part, we combine the method of randomly giving the vaccine to people and quarantine those show symptoms. And this is expected to outperform both random vaccine and quarantine.\n",
    "\n",
    "And with the same reason of quarantine part, we start with points 0 - 4 here."
   ]
  },
  {
   "cell_type": "code",
   "execution_count": 58,
   "metadata": {},
   "outputs": [],
   "source": [
    "Vac_rate = 0.8\n",
    "Vac_N = int(N * Vac_rate)\n",
    "Vac_daily = 25\n",
    "eff = 0.88\n",
    "Q_day = 10"
   ]
  },
  {
   "cell_type": "code",
   "execution_count": 59,
   "metadata": {},
   "outputs": [],
   "source": [
    "indice = [0, 1, 2, 3, 4]"
   ]
  },
  {
   "cell_type": "code",
   "execution_count": 60,
   "metadata": {},
   "outputs": [
    {
     "name": "stderr",
     "output_type": "stream",
     "text": [
      "100%|██████████| 6/6 [00:03<00:00,  1.84it/s]\n"
     ]
    }
   ],
   "source": [
    "# Solve Small-world Model\n",
    "num_loop = 6\n",
    "X_SW_all = np.zeros((num_loop, Nt, 3))\n",
    "worse = 0\n",
    "worse_num = N\n",
    "for nn_model in tqdm(range(num_loop)):\n",
    "    Ss_SW, Is_SW, Rs_SW = S0, I0, R0\n",
    "    X_SW0 = [[Ss_SW, Is_SW, Rs_SW]]\n",
    "    Q_state = np.zeros(N)\n",
    "    Vac_already = 0\n",
    "\n",
    "    SIR_SW = SIR_init(G_SW_matrix, indice)\n",
    "    for i in range(Nt - 1):\n",
    "        # Vaccine\n",
    "        if(Vac_N > Vac_already):\n",
    "            S_list = np.where(SIR_SW == 0)[0]\n",
    "            if(len(list(S_list)) <= Vac_daily):\n",
    "                Vac = list(S_list)\n",
    "                Vac_already += len(list(S_list))\n",
    "            else:\n",
    "                Vac = random.sample(list(S_list), Vac_daily)\n",
    "                Vac_already += 15\n",
    "            Vac.sort()\n",
    "            SIR_SW[Vac] = 5\n",
    "\n",
    "        # Quarantine\n",
    "        I_list = np.where(SIR_SW == 1)[0]\n",
    "        G_SW_matrix_temp = np.copy(G_SW_matrix)\n",
    "        for i in I_list:\n",
    "            if(Q_state[i] == 0):\n",
    "                Q_state[i] = 10\n",
    "        \n",
    "        for i in range(N):\n",
    "            if(Q_state[i] != 0):\n",
    "                for j in range(N):\n",
    "                    G_SW_matrix_temp[i, j] = 0\n",
    "                    G_SW_matrix_temp[j, i] = 0\n",
    "\n",
    "\n",
    "        Ss_SW, Is_SW, Rs_SW = SIRstep(G_SW_matrix_temp, SIR_SW, Ss_SW, Is_SW, Rs_SW, a, b, dt)\n",
    "        X_SW0 = X_SW0 + [[Ss_SW, Is_SW, Rs_SW]]   # Append to list\n",
    "        Q_state[Q_state > 0] -= 1\n",
    "\n",
    "    X_SW_all[nn_model] = np.asarray(X_SW0)\n",
    "    final_one = np.asarray(X_SW0)[Nt - 1, 0]\n",
    "    \n",
    "    if(worse_num > final_one):\n",
    "        worse_num = final_one\n",
    "        worse = nn_model\n",
    "X_SW = X_SW_all[worse]"
   ]
  },
  {
   "cell_type": "code",
   "execution_count": 61,
   "metadata": {},
   "outputs": [
    {
     "name": "stderr",
     "output_type": "stream",
     "text": [
      "100%|██████████| 6/6 [00:10<00:00,  1.83s/it]\n"
     ]
    }
   ],
   "source": [
    "# Solve BA Model\n",
    "num_loop = 6\n",
    "X_BA_all = np.zeros((num_loop, Nt, 3))\n",
    "worse = 0\n",
    "worse_num = N\n",
    "for nn_model in tqdm(range(num_loop)):\n",
    "    Ss_BA, Is_BA, Rs_BA = S0, I0, R0\n",
    "    X_BA0 = [[Ss_BA, Is_BA, Rs_BA]]\n",
    "    Q_state = np.zeros(N)\n",
    "    Vac_already = 0\n",
    "\n",
    "    SIR_BA = SIR_init(G_BA_matrix, indice)\n",
    "    for i in range(Nt - 1):\n",
    "        # Vaccine\n",
    "        if(Vac_N > Vac_already):\n",
    "            S_list = np.where(SIR_BA == 0)[0]\n",
    "            if(len(list(S_list)) <= Vac_daily):\n",
    "                Vac = list(S_list)\n",
    "                Vac_already += len(list(S_list))\n",
    "            else:\n",
    "                Vac = random.sample(list(S_list), Vac_daily)\n",
    "                Vac_already += 15\n",
    "            Vac.sort()\n",
    "            SIR_BA[Vac] = 5\n",
    "\n",
    "        # Quarantine\n",
    "        I_list = np.where(SIR_BA == 1)[0]\n",
    "\n",
    "        G_BA_matrix_temp = np.copy(G_BA_matrix)\n",
    "        for i in I_list:\n",
    "            if(Q_state[i] == 0):\n",
    "                Q_state[i] = 10\n",
    "        \n",
    "        for i in range(N):\n",
    "            if(Q_state[i] != 0):\n",
    "                for j in range(N):\n",
    "                    G_BA_matrix_temp[i, j] = 0\n",
    "                    G_BA_matrix_temp[j, i] = 0\n",
    "\n",
    "\n",
    "        Ss_BA, Is_BA, Rs_BA = SIRstep(G_BA_matrix_temp, SIR_BA, Ss_BA, Is_BA, Rs_BA, a, b, dt)\n",
    "        X_BA0 = X_BA0 + [[Ss_BA, Is_BA, Rs_BA]]   # Append to list\n",
    "        Q_state[Q_state > 0] -= 1\n",
    "    X_BA_all[nn_model] = np.asarray(X_BA0)\n",
    "    final_one = np.asarray(X_BA0)[Nt - 1, 0]\n",
    "        \n",
    "    if(worse_num > final_one):\n",
    "        worse_num = final_one\n",
    "        worse = nn_model\n",
    "X_BA = X_BA_all[worse]"
   ]
  },
  {
   "cell_type": "code",
   "execution_count": 62,
   "metadata": {},
   "outputs": [],
   "source": [
    "# Store the value\n",
    "Ss_all[6, 0] = X_SW[:, 0]\n",
    "Is_all[6, 0] = X_SW[:, 1]\n",
    "Rs_all[6, 0] = X_SW[:, 2]\n",
    "\n",
    "Ss_all[6, 1] = X_BA[:, 0]\n",
    "Is_all[6, 1] = X_BA[:, 1]\n",
    "Rs_all[6, 1] = X_BA[:, 2]"
   ]
  },
  {
   "cell_type": "markdown",
   "metadata": {},
   "source": [
    "## Plot"
   ]
  },
  {
   "cell_type": "markdown",
   "metadata": {},
   "source": [
    "In this part, we can compare the results of different intervention methods by simply changing $intervene\\_method0$ and $1$.\n",
    "\n",
    "When intervene_method = 0: No intervene.\n",
    "\n",
    "intervene_method = 1: Lock Down\n",
    "\n",
    "intervene_method = 2: Vaccination\n",
    "\n",
    "intervene_method = 3: Selective Vaccine\n",
    "\n",
    "intervene_method = 4: Vaccination and Lock Down\n",
    "\n",
    "intervene_method = 5: Quarantine\n",
    "\n",
    "intervene_method = 6: Vaccination and Quarantine"
   ]
  },
  {
   "cell_type": "code",
   "execution_count": 63,
   "metadata": {},
   "outputs": [
    {
     "data": {
      "text/plain": [
       "<matplotlib.legend.Legend at 0x7fcf297d6a90>"
      ]
     },
     "execution_count": 63,
     "metadata": {},
     "output_type": "execute_result"
    },
    {
     "data": {
      "image/png": "[encoded data removed]",
      "text/plain": [
       "<Figure size 432x288 with 1 Axes>"
      ]
     },
     "metadata": {},
     "output_type": "display_data"
    }
   ],
   "source": [
    "# Plot deterministic and stochastic results in same figure\n",
    "# i_th_model = 0: Small-world model\n",
    "# i_th_model = 1: BA model\n",
    "# intervene_method = 0: No intervene\n",
    "# intervene_method = 1: Lockdown\n",
    "# intervene_method = 2: Vaccination\n",
    "# intervene_method = 3: Selective Vaccine\n",
    "# intervene_method = 4: Vaccination and Lockdown\n",
    "# intervene_method = 5: Quarantine\n",
    "# intervene_method = 6: Vaccination and Quarantine\n",
    "\n",
    "i_th_model = 1\n",
    "\n",
    "intervene_method0 = 0\n",
    "intervene_method1 = 6\n",
    "\n",
    "fig = plt.figure(facecolor='w')\n",
    "plt.step(t, Ss_all[intervene_method0, i_th_model], 'b--',  alpha=0.5, lw=2, label='S, immune method {}'.format(intervene_method0))\n",
    "plt.step(t, Is_all[intervene_method0, i_th_model], 'r--',  alpha=0.5, lw=2, label='I, immune method {}'.format(intervene_method0))\n",
    "plt.step(t, Rs_all[intervene_method0, i_th_model], 'k--',  alpha=0.5, lw=2, label='R, immune method {}'.format(intervene_method0))\n",
    "\n",
    "plt.step(t, Ss_all[intervene_method1, i_th_model], 'b',  alpha=0.5, lw=2, label='S, immune method {}'.format(intervene_method1))\n",
    "plt.step(t, Is_all[intervene_method1, i_th_model], 'r',  alpha=0.5, lw=2, label='I, immune method {}'.format(intervene_method1))\n",
    "plt.step(t, Rs_all[intervene_method1, i_th_model], 'k',  alpha=0.5, lw=2, label='R, immune method {}'.format(intervene_method1))\n",
    "\n",
    "plt.xlabel('Time [days]')\n",
    "plt.ylabel('Population')\n",
    "plt.grid()\n",
    "plt.legend()"
   ]
  },
  {
   "cell_type": "markdown",
   "metadata": {},
   "source": [
    "And we can also print the change of the number of S here.\n",
    "\n",
    "The first line is without any interference.\n",
    "\n",
    "The second line is the lockdown.\n",
    "\n",
    "The third line is randomly vaccine people.\n",
    "\n",
    "The fourth line is selective vaccine people.\n",
    "\n",
    "The fifth line is vaccination and lockdown.\n",
    "\n",
    "The sixth line is quarantine.\n",
    "\n",
    "The final line is vaccination and quarantine."
   ]
  },
  {
   "cell_type": "code",
   "execution_count": 64,
   "metadata": {},
   "outputs": [
    {
     "name": "stdout",
     "output_type": "stream",
     "text": [
      "[[[995. 994. 993. ... 164. 164. 164.]\n",
      "  [995. 993. 992. ... 189. 189. 189.]]\n",
      "\n",
      " [[995. 995. 994. ... 989. 989. 989.]\n",
      "  [995. 995. 995. ... 896. 896. 896.]]\n",
      "\n",
      " [[995. 994. 992. ... 886. 886. 886.]\n",
      "  [995. 991. 984. ... 560. 560. 560.]]\n",
      "\n",
      " [[995. 993. 992. ... 896. 896. 896.]\n",
      "  [995. 992. 990. ... 589. 589. 589.]]]\n",
      "\n",
      "[[[995. 994. 994. ... 973. 973. 973.]\n",
      "  [995. 993. 989. ... 835. 835. 835.]]\n",
      "\n",
      " [[995. 995. 994. ... 976. 976. 976.]\n",
      "  [995. 982. 963. ... 921. 921. 921.]]\n",
      "\n",
      " [[995. 994. 991. ... 992. 992. 992.]\n",
      "  [995. 988. 975. ... 923. 923. 923.]]]\n"
     ]
    }
   ],
   "source": [
    "print(Ss_all[0:4])\n",
    "print()\n",
    "print(Ss_all[4:7])"
   ]
  },
  {
   "cell_type": "markdown",
   "metadata": {},
   "source": [
    "By comparing different interference methods, we notice that vaccine is helpful, especially when you\n",
    "and your friends do not have large contact with other individuals. But suppose everyone still keeps\n",
    "the social behavior like before. In that case, the vaccine will not be as helpful as before, especially\n",
    "when the new variant of COVID appears, making the vaccine’s efficiency drops. For example the\n",
    "Omicron variant these days.\n",
    "\n",
    "Combining vaccination and reducing the amount of close contact with other people will dramatically\n",
    "reduce the number of infected people. But above all of that, the most useful interfere way is still\n",
    "quarantine people when they show symptoms.\n",
    "\n",
    "Since this is a small community with 1000 population, the best model to fit the contact of this\n",
    "community is the BA model, we will give suggestion according to the result in BA model.\n",
    "\n",
    "So if the community wants to reduce the number of people being infected and the effect of COVID\n",
    "on society, the best intervention strategy is to quarantine those who show the symptoms of COVID,\n",
    "and at the same time, give the vaccine to those sensitive people."
   ]
  },
  {
   "cell_type": "markdown",
   "metadata": {},
   "source": []
  }
 ],
 "metadata": {
  "interpreter": {
   "hash": "8cca2f80e227d94a104b5117a3ba2ba497320343a023d4f6859406b4f3686f28"
  },
  "kernelspec": {
   "display_name": "Python 3 (ipykernel)",
   "language": "python",
   "name": "python3"
  },
  "language_info": {
   "codemirror_mode": {
    "name": "ipython",
    "version": 3
   },
   "file_extension": ".py",
   "mimetype": "text/x-python",
   "name": "python",
   "nbconvert_exporter": "python",
   "pygments_lexer": "ipython3",
   "version": "3.8.12"
  }
 },
 "nbformat": 4,
 "nbformat_minor": 2
}
